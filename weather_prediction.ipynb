{
 "cells": [
  {
   "cell_type": "code",
   "execution_count": 1,
   "id": "5b2d0bd7",
   "metadata": {},
   "outputs": [],
   "source": [
    "import pandas as pd\n",
    "from sklearn.model_selection import train_test_split\n",
    "from sklearn.linear_model import Ridge\n",
    "from sklearn.metrics import mean_absolute_error\n",
    "import pickle\n",
    "import numpy as np"
   ]
  },
  {
   "cell_type": "code",
   "execution_count": 2,
   "id": "303aefba",
   "metadata": {},
   "outputs": [],
   "source": [
    "weather = pd.read_csv(\"local_weather_adis.csv\", index_col=\"DATE\")"
   ]
  },
  {
   "cell_type": "code",
   "execution_count": 3,
   "id": "c50f51c6",
   "metadata": {},
   "outputs": [
    {
     "data": {
      "text/plain": [
       "STATION        0\n",
       "NAME           0\n",
       "PRCP        6185\n",
       "SNWD       18801\n",
       "TAVG        6520\n",
       "TMAX        4716\n",
       "TMIN        3579\n",
       "dtype: int64"
      ]
     },
     "execution_count": 3,
     "metadata": {},
     "output_type": "execute_result"
    }
   ],
   "source": [
    "#PREPARING THE DATA FOR MACHINE LEARNING\n",
    "#CHECKINg NULL VALUE IN THE DATA SET\n",
    "weather.apply(pd.isnull).sum() "
   ]
  },
  {
   "cell_type": "code",
   "execution_count": 4,
   "id": "3da9ecd4",
   "metadata": {},
   "outputs": [
    {
     "data": {
      "text/plain": [
       "STATION    0.000000\n",
       "NAME       0.000000\n",
       "PRCP       0.328919\n",
       "SNWD       0.999840\n",
       "TAVG       0.346735\n",
       "TMAX       0.250798\n",
       "TMIN       0.190332\n",
       "dtype: float64"
      ]
     },
     "execution_count": 4,
     "metadata": {},
     "output_type": "execute_result"
    }
   ],
   "source": [
    "weather.apply(pd.isnull).sum()/weather.shape[0]"
   ]
  },
  {
   "cell_type": "code",
   "execution_count": 5,
   "id": "e0647b8a",
   "metadata": {},
   "outputs": [],
   "source": [
    "#SELECT CORE VALUE\n",
    "core_weather = weather[[\"PRCP\",\"SNWD\",\"TMAX\",\"TMIN\"]].copy()"
   ]
  },
  {
   "cell_type": "code",
   "execution_count": 6,
   "id": "87a478e8",
   "metadata": {},
   "outputs": [],
   "source": [
    "#RENAME THE ATRIBUTE FOR CORE VALUE\n",
    "core_weather.columns = [\"precip\",\"snow_depth\",\"temp_max\",\"temp_min\"]"
   ]
  },
  {
   "cell_type": "code",
   "execution_count": 7,
   "id": "ed57f47a",
   "metadata": {},
   "outputs": [
    {
     "data": {
      "text/plain": [
       "precip        0.328919\n",
       "snow_depth    0.999840\n",
       "temp_max      0.250798\n",
       "temp_min      0.190332\n",
       "dtype: float64"
      ]
     },
     "execution_count": 7,
     "metadata": {},
     "output_type": "execute_result"
    }
   ],
   "source": [
    "#FILLING IN MISSING VALUES\n",
    "core_weather.apply(pd.isnull).sum()/core_weather.shape[0]"
   ]
  },
  {
   "cell_type": "code",
   "execution_count": 8,
   "id": "34f450c1",
   "metadata": {},
   "outputs": [],
   "source": [
    "#delate snow_depth\n",
    "del core_weather[\"snow_depth\"]"
   ]
  },
  {
   "cell_type": "code",
   "execution_count": 9,
   "id": "467dcc23",
   "metadata": {},
   "outputs": [],
   "source": [
    "#REPLACE NULL VALUE BY 0\n",
    "core_weather[\"precip\"] = core_weather[\"precip\"].fillna(0)"
   ]
  },
  {
   "cell_type": "code",
   "execution_count": 10,
   "id": "d3a1781c",
   "metadata": {},
   "outputs": [],
   "source": [
    "#FIND THE PRIVIES VALUE THAT IS NOT NULL replace the null value\n",
    "core_weather = core_weather.fillna(method=\"ffill\")"
   ]
  },
  {
   "cell_type": "code",
   "execution_count": 11,
   "id": "b63ee978",
   "metadata": {
    "scrolled": true
   },
   "outputs": [
    {
     "data": {
      "text/plain": [
       "precip      0.0\n",
       "temp_max    0.0\n",
       "temp_min    0.0\n",
       "dtype: float64"
      ]
     },
     "execution_count": 11,
     "metadata": {},
     "output_type": "execute_result"
    }
   ],
   "source": [
    "#CHECKING THE NULL VALUE\n",
    "core_weather.apply(pd.isnull).sum()/core_weather.shape[0]"
   ]
  },
  {
   "cell_type": "code",
   "execution_count": 12,
   "id": "ff7a69b8",
   "metadata": {},
   "outputs": [
    {
     "data": {
      "text/plain": [
       "precip      float64\n",
       "temp_max    float64\n",
       "temp_min    float64\n",
       "dtype: object"
      ]
     },
     "execution_count": 12,
     "metadata": {},
     "output_type": "execute_result"
    }
   ],
   "source": [
    "#VERIFIYING WE HAVE THE CORRECT DATA TYPES\n",
    "core_weather.dtypes"
   ]
  },
  {
   "cell_type": "code",
   "execution_count": 13,
   "id": "93f764b5",
   "metadata": {},
   "outputs": [],
   "source": [
    "#convert to date time index\n",
    "core_weather.index = pd.to_datetime(core_weather.index)"
   ]
  },
  {
   "cell_type": "code",
   "execution_count": 14,
   "id": "37c0c0ec",
   "metadata": {},
   "outputs": [
    {
     "data": {
      "text/plain": [
       "precip      0\n",
       "temp_max    0\n",
       "temp_min    0\n",
       "dtype: int64"
      ]
     },
     "execution_count": 14,
     "metadata": {},
     "output_type": "execute_result"
    }
   ],
   "source": [
    "#9999 INDICATE MISSING DATA OR DATA THAT HAS NOT BEEN RECEIVED\n",
    "core_weather.apply(lambda x: (x==9999).sum())"
   ]
  },
  {
   "cell_type": "code",
   "execution_count": 15,
   "id": "bd628202",
   "metadata": {},
   "outputs": [],
   "source": [
    "#TRAINING OUR FIRST MACHIN LEARNING MODEL\n",
    "#THE TARGET IS TOMOROW TEMP MAX\n",
    "core_weather[\"target\"] = core_weather.shift(-1)[\"temp_max\"]"
   ]
  },
  {
   "cell_type": "code",
   "execution_count": 16,
   "id": "e6bed121",
   "metadata": {},
   "outputs": [],
   "source": [
    "#REMOVING THE LAST ROW\n",
    "core_weather = core_weather.iloc[:-1,:].copy()"
   ]
  },
  {
   "cell_type": "code",
   "execution_count": 17,
   "id": "17362ce1",
   "metadata": {},
   "outputs": [],
   "source": [
    "predictors = [\"precip\",\"temp_max\",\"temp_min\"]"
   ]
  },
  {
   "cell_type": "code",
   "execution_count": 18,
   "id": "dd886ef3",
   "metadata": {},
   "outputs": [],
   "source": [
    "x = core_weather[predictors]"
   ]
  },
  {
   "cell_type": "code",
   "execution_count": 19,
   "id": "24c349bd",
   "metadata": {},
   "outputs": [],
   "source": [
    "y = core_weather[\"target\"]"
   ]
  },
  {
   "cell_type": "code",
   "execution_count": 20,
   "id": "691b6896",
   "metadata": {},
   "outputs": [],
   "source": [
    "X_train,X_test,Y_train,Y_test = train_test_split(x,y,test_size=0.2,random_state=10)"
   ]
  },
  {
   "cell_type": "code",
   "execution_count": 21,
   "id": "9f9c34b5",
   "metadata": {},
   "outputs": [],
   "source": [
    "\n",
    "reg = Ridge(alpha=.1)"
   ]
  },
  {
   "cell_type": "code",
   "execution_count": 22,
   "id": "200e2391",
   "metadata": {},
   "outputs": [
    {
     "data": {
      "text/plain": [
       "Ridge(alpha=0.1)"
      ]
     },
     "execution_count": 22,
     "metadata": {},
     "output_type": "execute_result"
    }
   ],
   "source": [
    "reg.fit(X_train, Y_train)"
   ]
  },
  {
   "cell_type": "code",
   "execution_count": 23,
   "id": "008565c3",
   "metadata": {},
   "outputs": [],
   "source": [
    "predictions = reg.predict(X_test)"
   ]
  },
  {
   "cell_type": "code",
   "execution_count": 24,
   "id": "9e1d457f",
   "metadata": {},
   "outputs": [
    {
     "data": {
      "text/plain": [
       "1.5804781633860372"
      ]
     },
     "execution_count": 24,
     "metadata": {},
     "output_type": "execute_result"
    }
   ],
   "source": [
    "mean_absolute_error(Y_test,predictions)"
   ]
  },
  {
   "cell_type": "code",
   "execution_count": 29,
   "id": "671e65f5",
   "metadata": {},
   "outputs": [],
   "source": [
    "pickle.dump(reg,open('weather_model.pkl','wb'))\n",
    "model=pickle.load(open('weather_model.pkl','rb'))"
   ]
  },
  {
   "cell_type": "code",
   "execution_count": null,
   "id": "07918df3",
   "metadata": {},
   "outputs": [],
   "source": []
  },
  {
   "cell_type": "code",
   "execution_count": null,
   "id": "6f18bcde",
   "metadata": {},
   "outputs": [],
   "source": []
  }
 ],
 "metadata": {
  "kernelspec": {
   "display_name": "Python 3 (ipykernel)",
   "language": "python",
   "name": "python3"
  },
  "language_info": {
   "codemirror_mode": {
    "name": "ipython",
    "version": 3
   },
   "file_extension": ".py",
   "mimetype": "text/x-python",
   "name": "python",
   "nbconvert_exporter": "python",
   "pygments_lexer": "ipython3",
   "version": "3.9.13"
  }
 },
 "nbformat": 4,
 "nbformat_minor": 5
}
